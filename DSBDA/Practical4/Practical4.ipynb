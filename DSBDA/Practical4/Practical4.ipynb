{
 "cells": [
  {
   "cell_type": "markdown",
   "id": "1b7732f9-fa0f-47b3-b941-4a0975dfd2e5",
   "metadata": {},
   "source": [
    "Data Wrangling II operations using Python..(e.g., Academic_Performance.csv)\n",
    "1. Scan all variables for missing values and inconsistencies. If there are missing values and/or inconsistencies, use any of the suitable techniques to deal with them(using median and 0).Apply for single column and whole dataset.\n",
    "2. Scan all numeric variables for outliers. If there are outliers,any of the suitable techniques to deal with them.(using IQR)\n",
    "3.Display and Remove the outliers show q1 and q3  \n",
    "4. Apply aggregation function (max,avg). The purpose of this transformation should be one of the following reasons:to change the scale for better understanding of the variable, to convert a non-linear relation into a linear one, or to decrease the skewness and convert the distribution into a normal distribution.\n",
    "Reason and document your approach properly.\n",
    "5. Draw Scatter plot"
   ]
  },
  {
   "cell_type": "code",
   "execution_count": 1,
   "id": "bd79ea3d-e616-4c11-b856-c36fcc652375",
   "metadata": {},
   "outputs": [],
   "source": [
    "import pandas as pd\n",
    "import numpy as np\n",
    "import matplotlib.pyplot as plt\n",
    "import seaborn as sns"
   ]
  },
  {
   "cell_type": "code",
   "execution_count": 9,
   "id": "548f2d72-a997-4e79-ba26-fab363424cee",
   "metadata": {},
   "outputs": [
    {
     "data": {
      "text/html": [
       "<div>\n",
       "<style scoped>\n",
       "    .dataframe tbody tr th:only-of-type {\n",
       "        vertical-align: middle;\n",
       "    }\n",
       "\n",
       "    .dataframe tbody tr th {\n",
       "        vertical-align: top;\n",
       "    }\n",
       "\n",
       "    .dataframe thead th {\n",
       "        text-align: right;\n",
       "    }\n",
       "</style>\n",
       "<table border=\"1\" class=\"dataframe\">\n",
       "  <thead>\n",
       "    <tr style=\"text-align: right;\">\n",
       "      <th></th>\n",
       "      <th>Roll No</th>\n",
       "      <th>NationalITy</th>\n",
       "      <th>WT</th>\n",
       "      <th>DSBDA</th>\n",
       "      <th>AI</th>\n",
       "      <th>Average</th>\n",
       "      <th>Grade</th>\n",
       "      <th>PG</th>\n",
       "    </tr>\n",
       "  </thead>\n",
       "  <tbody>\n",
       "    <tr>\n",
       "      <th>0</th>\n",
       "      <td>1.0</td>\n",
       "      <td>India</td>\n",
       "      <td>72.0</td>\n",
       "      <td>72.0</td>\n",
       "      <td>74.0</td>\n",
       "      <td>72.666667</td>\n",
       "      <td>C</td>\n",
       "      <td>Yes</td>\n",
       "    </tr>\n",
       "    <tr>\n",
       "      <th>1</th>\n",
       "      <td>2.0</td>\n",
       "      <td>Japan</td>\n",
       "      <td>69.0</td>\n",
       "      <td>90.0</td>\n",
       "      <td>NaN</td>\n",
       "      <td>53.000000</td>\n",
       "      <td>B</td>\n",
       "      <td>No</td>\n",
       "    </tr>\n",
       "    <tr>\n",
       "      <th>2</th>\n",
       "      <td>NaN</td>\n",
       "      <td>NaN</td>\n",
       "      <td>NaN</td>\n",
       "      <td>NaN</td>\n",
       "      <td>NaN</td>\n",
       "      <td>NaN</td>\n",
       "      <td>NaN</td>\n",
       "      <td>NaN</td>\n",
       "    </tr>\n",
       "    <tr>\n",
       "      <th>3</th>\n",
       "      <td>4.0</td>\n",
       "      <td>China</td>\n",
       "      <td>47.0</td>\n",
       "      <td>NaN</td>\n",
       "      <td>44.0</td>\n",
       "      <td>30.333333</td>\n",
       "      <td>D</td>\n",
       "      <td>Yes</td>\n",
       "    </tr>\n",
       "    <tr>\n",
       "      <th>4</th>\n",
       "      <td>5.0</td>\n",
       "      <td>India</td>\n",
       "      <td>76.0</td>\n",
       "      <td>78.0</td>\n",
       "      <td>NaN</td>\n",
       "      <td>51.333333</td>\n",
       "      <td>C</td>\n",
       "      <td>No</td>\n",
       "    </tr>\n",
       "  </tbody>\n",
       "</table>\n",
       "</div>"
      ],
      "text/plain": [
       "   Roll No NationalITy    WT  DSBDA    AI    Average Grade   PG\n",
       "0      1.0       India  72.0   72.0  74.0  72.666667     C  Yes\n",
       "1      2.0       Japan  69.0   90.0   NaN  53.000000     B   No\n",
       "2      NaN         NaN   NaN    NaN   NaN        NaN   NaN  NaN\n",
       "3      4.0       China  47.0    NaN  44.0  30.333333     D  Yes\n",
       "4      5.0       India  76.0   78.0   NaN  51.333333     C   No"
      ]
     },
     "execution_count": 9,
     "metadata": {},
     "output_type": "execute_result"
    }
   ],
   "source": [
    "df=pd.read_csv(\"C:\\\\Users\\\\DELL\\\\Downloads\\\\DSDBA\\\\Practical3\\\\AcademicPerformance_New.csv\")\n",
    "df.head()"
   ]
  },
  {
   "cell_type": "code",
   "execution_count": 11,
   "id": "25f92e4e-a766-42c1-a3c6-5e1e396a451e",
   "metadata": {},
   "outputs": [
    {
     "name": "stdout",
     "output_type": "stream",
     "text": [
      "<class 'pandas.core.frame.DataFrame'>\n",
      "RangeIndex: 99 entries, 0 to 98\n",
      "Data columns (total 8 columns):\n",
      " #   Column       Non-Null Count  Dtype  \n",
      "---  ------       --------------  -----  \n",
      " 0   Roll No      98 non-null     float64\n",
      " 1   NationalITy  98 non-null     object \n",
      " 2   WT           91 non-null     float64\n",
      " 3   DSBDA        95 non-null     float64\n",
      " 4   AI           89 non-null     float64\n",
      " 5   Average      98 non-null     float64\n",
      " 6   Grade        98 non-null     object \n",
      " 7   PG           98 non-null     object \n",
      "dtypes: float64(5), object(3)\n",
      "memory usage: 6.3+ KB\n"
     ]
    }
   ],
   "source": [
    "df.info()"
   ]
  },
  {
   "cell_type": "code",
   "execution_count": 13,
   "id": "9e94df63-bfea-4dbd-816f-6f5c6d8ef3d0",
   "metadata": {},
   "outputs": [
    {
     "data": {
      "text/html": [
       "<div>\n",
       "<style scoped>\n",
       "    .dataframe tbody tr th:only-of-type {\n",
       "        vertical-align: middle;\n",
       "    }\n",
       "\n",
       "    .dataframe tbody tr th {\n",
       "        vertical-align: top;\n",
       "    }\n",
       "\n",
       "    .dataframe thead th {\n",
       "        text-align: right;\n",
       "    }\n",
       "</style>\n",
       "<table border=\"1\" class=\"dataframe\">\n",
       "  <thead>\n",
       "    <tr style=\"text-align: right;\">\n",
       "      <th></th>\n",
       "      <th>Roll No</th>\n",
       "      <th>WT</th>\n",
       "      <th>DSBDA</th>\n",
       "      <th>AI</th>\n",
       "      <th>Average</th>\n",
       "    </tr>\n",
       "  </thead>\n",
       "  <tbody>\n",
       "    <tr>\n",
       "      <th>count</th>\n",
       "      <td>98.000000</td>\n",
       "      <td>91.000000</td>\n",
       "      <td>95.000000</td>\n",
       "      <td>89.000000</td>\n",
       "      <td>98.000000</td>\n",
       "    </tr>\n",
       "    <tr>\n",
       "      <th>mean</th>\n",
       "      <td>50.479592</td>\n",
       "      <td>61.164835</td>\n",
       "      <td>64.652632</td>\n",
       "      <td>62.235955</td>\n",
       "      <td>58.663265</td>\n",
       "    </tr>\n",
       "    <tr>\n",
       "      <th>std</th>\n",
       "      <td>28.469274</td>\n",
       "      <td>14.995009</td>\n",
       "      <td>14.893072</td>\n",
       "      <td>16.216590</td>\n",
       "      <td>16.518482</td>\n",
       "    </tr>\n",
       "    <tr>\n",
       "      <th>min</th>\n",
       "      <td>1.000000</td>\n",
       "      <td>18.000000</td>\n",
       "      <td>26.000000</td>\n",
       "      <td>20.000000</td>\n",
       "      <td>26.000000</td>\n",
       "    </tr>\n",
       "    <tr>\n",
       "      <th>25%</th>\n",
       "      <td>26.250000</td>\n",
       "      <td>51.000000</td>\n",
       "      <td>54.500000</td>\n",
       "      <td>52.000000</td>\n",
       "      <td>45.250000</td>\n",
       "    </tr>\n",
       "    <tr>\n",
       "      <th>50%</th>\n",
       "      <td>50.500000</td>\n",
       "      <td>63.000000</td>\n",
       "      <td>66.000000</td>\n",
       "      <td>63.000000</td>\n",
       "      <td>59.333333</td>\n",
       "    </tr>\n",
       "    <tr>\n",
       "      <th>75%</th>\n",
       "      <td>74.750000</td>\n",
       "      <td>71.000000</td>\n",
       "      <td>74.000000</td>\n",
       "      <td>74.000000</td>\n",
       "      <td>71.916667</td>\n",
       "    </tr>\n",
       "    <tr>\n",
       "      <th>max</th>\n",
       "      <td>99.000000</td>\n",
       "      <td>97.000000</td>\n",
       "      <td>95.000000</td>\n",
       "      <td>92.000000</td>\n",
       "      <td>91.666667</td>\n",
       "    </tr>\n",
       "  </tbody>\n",
       "</table>\n",
       "</div>"
      ],
      "text/plain": [
       "         Roll No         WT      DSBDA         AI    Average\n",
       "count  98.000000  91.000000  95.000000  89.000000  98.000000\n",
       "mean   50.479592  61.164835  64.652632  62.235955  58.663265\n",
       "std    28.469274  14.995009  14.893072  16.216590  16.518482\n",
       "min     1.000000  18.000000  26.000000  20.000000  26.000000\n",
       "25%    26.250000  51.000000  54.500000  52.000000  45.250000\n",
       "50%    50.500000  63.000000  66.000000  63.000000  59.333333\n",
       "75%    74.750000  71.000000  74.000000  74.000000  71.916667\n",
       "max    99.000000  97.000000  95.000000  92.000000  91.666667"
      ]
     },
     "execution_count": 13,
     "metadata": {},
     "output_type": "execute_result"
    }
   ],
   "source": [
    "df.describe()"
   ]
  },
  {
   "cell_type": "code",
   "execution_count": 19,
   "id": "d88436bc-52dc-463b-9090-0adaabd4652c",
   "metadata": {},
   "outputs": [
    {
     "data": {
      "text/plain": [
       "Roll No         1\n",
       "NationalITy     1\n",
       "WT              8\n",
       "DSBDA           0\n",
       "AI             10\n",
       "Average         1\n",
       "Grade           1\n",
       "PG              1\n",
       "dtype: int64"
      ]
     },
     "execution_count": 19,
     "metadata": {},
     "output_type": "execute_result"
    }
   ],
   "source": [
    "df.isnull().sum()"
   ]
  },
  {
   "cell_type": "code",
   "execution_count": 23,
   "id": "211fbe53-86a2-4b5d-bf6b-9069a2df179b",
   "metadata": {},
   "outputs": [
    {
     "data": {
      "text/html": [
       "<div>\n",
       "<style scoped>\n",
       "    .dataframe tbody tr th:only-of-type {\n",
       "        vertical-align: middle;\n",
       "    }\n",
       "\n",
       "    .dataframe tbody tr th {\n",
       "        vertical-align: top;\n",
       "    }\n",
       "\n",
       "    .dataframe thead th {\n",
       "        text-align: right;\n",
       "    }\n",
       "</style>\n",
       "<table border=\"1\" class=\"dataframe\">\n",
       "  <thead>\n",
       "    <tr style=\"text-align: right;\">\n",
       "      <th></th>\n",
       "      <th>Roll No</th>\n",
       "      <th>NationalITy</th>\n",
       "      <th>WT</th>\n",
       "      <th>DSBDA</th>\n",
       "      <th>AI</th>\n",
       "      <th>Average</th>\n",
       "      <th>Grade</th>\n",
       "      <th>PG</th>\n",
       "    </tr>\n",
       "  </thead>\n",
       "  <tbody>\n",
       "    <tr>\n",
       "      <th>0</th>\n",
       "      <td>1.0</td>\n",
       "      <td>India</td>\n",
       "      <td>72.0</td>\n",
       "      <td>66.0</td>\n",
       "      <td>74.0</td>\n",
       "      <td>72.666667</td>\n",
       "      <td>C</td>\n",
       "      <td>Yes</td>\n",
       "    </tr>\n",
       "    <tr>\n",
       "      <th>1</th>\n",
       "      <td>2.0</td>\n",
       "      <td>Japan</td>\n",
       "      <td>69.0</td>\n",
       "      <td>66.0</td>\n",
       "      <td>0.0</td>\n",
       "      <td>53.000000</td>\n",
       "      <td>B</td>\n",
       "      <td>No</td>\n",
       "    </tr>\n",
       "    <tr>\n",
       "      <th>2</th>\n",
       "      <td>0.0</td>\n",
       "      <td>0</td>\n",
       "      <td>0.0</td>\n",
       "      <td>66.0</td>\n",
       "      <td>0.0</td>\n",
       "      <td>0.000000</td>\n",
       "      <td>0</td>\n",
       "      <td>0</td>\n",
       "    </tr>\n",
       "    <tr>\n",
       "      <th>3</th>\n",
       "      <td>4.0</td>\n",
       "      <td>China</td>\n",
       "      <td>47.0</td>\n",
       "      <td>66.0</td>\n",
       "      <td>44.0</td>\n",
       "      <td>30.333333</td>\n",
       "      <td>D</td>\n",
       "      <td>Yes</td>\n",
       "    </tr>\n",
       "    <tr>\n",
       "      <th>4</th>\n",
       "      <td>5.0</td>\n",
       "      <td>India</td>\n",
       "      <td>76.0</td>\n",
       "      <td>66.0</td>\n",
       "      <td>0.0</td>\n",
       "      <td>51.333333</td>\n",
       "      <td>C</td>\n",
       "      <td>No</td>\n",
       "    </tr>\n",
       "    <tr>\n",
       "      <th>...</th>\n",
       "      <td>...</td>\n",
       "      <td>...</td>\n",
       "      <td>...</td>\n",
       "      <td>...</td>\n",
       "      <td>...</td>\n",
       "      <td>...</td>\n",
       "      <td>...</td>\n",
       "      <td>...</td>\n",
       "    </tr>\n",
       "    <tr>\n",
       "      <th>94</th>\n",
       "      <td>95.0</td>\n",
       "      <td>USA</td>\n",
       "      <td>79.0</td>\n",
       "      <td>66.0</td>\n",
       "      <td>0.0</td>\n",
       "      <td>26.333333</td>\n",
       "      <td>A</td>\n",
       "      <td>No</td>\n",
       "    </tr>\n",
       "    <tr>\n",
       "      <th>95</th>\n",
       "      <td>96.0</td>\n",
       "      <td>Japan</td>\n",
       "      <td>78.0</td>\n",
       "      <td>66.0</td>\n",
       "      <td>82.0</td>\n",
       "      <td>80.333333</td>\n",
       "      <td>A</td>\n",
       "      <td>No</td>\n",
       "    </tr>\n",
       "    <tr>\n",
       "      <th>96</th>\n",
       "      <td>97.0</td>\n",
       "      <td>USA</td>\n",
       "      <td>65.0</td>\n",
       "      <td>66.0</td>\n",
       "      <td>62.0</td>\n",
       "      <td>64.333333</td>\n",
       "      <td>B</td>\n",
       "      <td>No</td>\n",
       "    </tr>\n",
       "    <tr>\n",
       "      <th>97</th>\n",
       "      <td>98.0</td>\n",
       "      <td>Rassia</td>\n",
       "      <td>63.0</td>\n",
       "      <td>66.0</td>\n",
       "      <td>70.0</td>\n",
       "      <td>68.333333</td>\n",
       "      <td>B</td>\n",
       "      <td>Yes</td>\n",
       "    </tr>\n",
       "    <tr>\n",
       "      <th>98</th>\n",
       "      <td>99.0</td>\n",
       "      <td>India</td>\n",
       "      <td>58.0</td>\n",
       "      <td>66.0</td>\n",
       "      <td>0.0</td>\n",
       "      <td>41.666667</td>\n",
       "      <td>B</td>\n",
       "      <td>No</td>\n",
       "    </tr>\n",
       "  </tbody>\n",
       "</table>\n",
       "<p>99 rows × 8 columns</p>\n",
       "</div>"
      ],
      "text/plain": [
       "    Roll No NationalITy    WT  DSBDA    AI    Average Grade   PG\n",
       "0       1.0       India  72.0   66.0  74.0  72.666667     C  Yes\n",
       "1       2.0       Japan  69.0   66.0   0.0  53.000000     B   No\n",
       "2       0.0           0   0.0   66.0   0.0   0.000000     0    0\n",
       "3       4.0       China  47.0   66.0  44.0  30.333333     D  Yes\n",
       "4       5.0       India  76.0   66.0   0.0  51.333333     C   No\n",
       "..      ...         ...   ...    ...   ...        ...   ...  ...\n",
       "94     95.0         USA  79.0   66.0   0.0  26.333333     A   No\n",
       "95     96.0       Japan  78.0   66.0  82.0  80.333333     A   No\n",
       "96     97.0         USA  65.0   66.0  62.0  64.333333     B   No\n",
       "97     98.0      Rassia  63.0   66.0  70.0  68.333333     B  Yes\n",
       "98     99.0       India  58.0   66.0   0.0  41.666667     B   No\n",
       "\n",
       "[99 rows x 8 columns]"
      ]
     },
     "execution_count": 23,
     "metadata": {},
     "output_type": "execute_result"
    }
   ],
   "source": [
    "df.fillna(0,inplace=True)\n",
    "df.dropna()"
   ]
  },
  {
   "cell_type": "code",
   "execution_count": 41,
   "id": "89bfa239-29c0-4ffc-b828-6d7b2b08be9d",
   "metadata": {},
   "outputs": [],
   "source": [
    "Q1=df['DSBDA'].quantile(0.25)\n",
    "Q3=df['DSBDA'].quantile(0.75)"
   ]
  },
  {
   "cell_type": "code",
   "execution_count": 43,
   "id": "6bddf0a5-a41f-4d7f-988b-461cef081fad",
   "metadata": {},
   "outputs": [
    {
     "name": "stdout",
     "output_type": "stream",
     "text": [
      "Q1:66.0,Q3:66.0,IQR:0.0\n"
     ]
    }
   ],
   "source": [
    "IQR=Q3-Q1\n",
    "print(f\"Q1:{Q1},Q3:{Q3},IQR:{IQR}\")"
   ]
  },
  {
   "cell_type": "code",
   "execution_count": 45,
   "id": "7d677c63-ea2b-4a5c-96d6-bbba2080cd2e",
   "metadata": {},
   "outputs": [],
   "source": [
    "lower_bound=Q1-1.5*IQR\n",
    "upper_bound=Q3+1.5*IQR"
   ]
  },
  {
   "cell_type": "code",
   "execution_count": 59,
   "id": "44791784-1e5b-469c-b255-b52464b25243",
   "metadata": {},
   "outputs": [
    {
     "name": "stdout",
     "output_type": "stream",
     "text": [
      "Outlier: Empty DataFrame\n",
      "Columns: [Roll No, NationalITy, WT, DSBDA, AI, Average, Grade, PG]\n",
      "Index: []\n"
     ]
    }
   ],
   "source": [
    "outlier=df[(df['DSBDA']<lower_bound )| (df['DSBDA']>upper_bound)]\n",
    "print(\"Outlier:\",outlier)"
   ]
  },
  {
   "cell_type": "code",
   "execution_count": 63,
   "id": "f65b7771-7d73-48af-8b5a-af2609e4305d",
   "metadata": {},
   "outputs": [],
   "source": [
    "removeOutlier=df[~((df['DSBDA']<lower_bound)|(df['DSBDA']>upper_bound))]"
   ]
  },
  {
   "cell_type": "code",
   "execution_count": 65,
   "id": "e0683a56-92cf-43b9-87ac-bcacb4e54f2a",
   "metadata": {},
   "outputs": [
    {
     "name": "stdout",
     "output_type": "stream",
     "text": [
      "Max:66.0,Average:66.0\n"
     ]
    }
   ],
   "source": [
    "max_marks=df['DSBDA'].max()\n",
    "avg_marks=df['DSBDA'].mean()\n",
    "print(f\"Max:{max_marks},Average:{avg_marks}\")"
   ]
  },
  {
   "cell_type": "code",
   "execution_count": 71,
   "id": "2e464f54-d5a7-491a-9ba5-e47fe84de894",
   "metadata": {},
   "outputs": [
    {
     "name": "stdout",
     "output_type": "stream",
     "text": [
      "0     4.204693\n",
      "1     4.204693\n",
      "2     4.204693\n",
      "3     4.204693\n",
      "4     4.204693\n",
      "        ...   \n",
      "94    4.204693\n",
      "95    4.204693\n",
      "96    4.204693\n",
      "97    4.204693\n",
      "98    4.204693\n",
      "Name: Log_marks, Length: 99, dtype: float64\n"
     ]
    }
   ],
   "source": [
    "# Log transformation to reduce skewness (document: normalizing right-skewed data)\n",
    "df[\"Log_marks\"]=np.log1p(df[\"DSBDA\"]) # log1p to handle zero values\n",
    "print(df[\"Log_marks\"])"
   ]
  },
  {
   "cell_type": "code",
   "execution_count": 77,
   "id": "f6b5fcb4-c589-406a-94e2-28705e1274e2",
   "metadata": {},
   "outputs": [
    {
     "data": {
      "image/png": "[encoded data removed]",
      "text/plain": [
       "<Figure size 800x600 with 1 Axes>"
      ]
     },
     "metadata": {},
     "output_type": "display_data"
    }
   ],
   "source": [
    "plt.figure(figsize=(8,6))\n",
    "sns.scatterplot(data=df, x='Roll No', y='DSBDA')\n",
    "plt.title('Roll No vs DSBDA Marks')\n",
    "plt.xlabel('Roll No')\n",
    "plt.ylabel('DSBDA Marks')\n",
    "plt.grid(True)\n",
    "plt.show()"
   ]
  },
  {
   "cell_type": "code",
   "execution_count": null,
   "id": "d6d4a977-66f4-46b9-81c3-d8730bd2abb7",
   "metadata": {},
   "outputs": [],
   "source": []
  }
 ],
 "metadata": {
  "kernelspec": {
   "display_name": "Python 3 (ipykernel)",
   "language": "python",
   "name": "python3"
  },
  "language_info": {
   "codemirror_mode": {
    "name": "ipython",
    "version": 3
   },
   "file_extension": ".py",
   "mimetype": "text/x-python",
   "name": "python",
   "nbconvert_exporter": "python",
   "pygments_lexer": "ipython3",
   "version": "3.12.7"
  }
 },
 "nbformat": 4,
 "nbformat_minor": 5
}
